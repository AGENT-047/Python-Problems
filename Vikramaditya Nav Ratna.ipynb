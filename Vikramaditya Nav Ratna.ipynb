{
 "cells": [
  {
   "cell_type": "markdown",
   "metadata": {},
   "source": [
    "**Problem Statement\n",
    "\n",
    "Our hoary culture had several great persons since time immemorial and king vikramaditya’s nava ratnas (nine gems) belongs to this ilk.They are named in the following shloka:\n",
    "\n",
    "\n",
    "Among these, Varahamihira was an astrologer of eminence and his book Brihat Jataak is recokened as the ultimate authority in astrology.\n",
    "\n",
    "He was once talking with Amarasimha,another gem among the nava ratnas and the author of Sanskrit thesaurus, Amarakosha.\n",
    "\n",
    "Amarasimha wanted to know the final position of a person, who starts from the origin 0 0 and travelsper following scheme.\n",
    "\n",
    "* Scheme\n",
    "\n",
    "**He first turns and travels 10 units of distance\n",
    "His second turn is upward for 20 units\n",
    "Third turn is to the left for 30 units\n",
    "Fourth turn is the downward for 40 units\n",
    "Fifth turn is to the right(again) for 50 units\n",
    "… And thus he travels, every time increasing the travel distance by 10 units.\n",
    "\n",
    "Test Cases\n",
    "\n",
    "Case 1\n",
    "Input : 3\n",
    "Expected Output :-20 20\n",
    "\n",
    "Case 2\n",
    "Input: 4\n",
    "Expected Output: -20 -20\n",
    "\n",
    "Case 3\n",
    "Input : 5\n",
    "Expected Output : 30 -20\n",
    "\n",
    "Case 4\n",
    "Input : 7\n",
    "Expected Output : 90 -20"
   ]
  },
  {
   "cell_type": "code",
   "execution_count": 2,
   "metadata": {},
   "outputs": [
    {
     "name": "stdout",
     "output_type": "stream",
     "text": [
      "4\n",
      "-20 -20\n"
     ]
    }
   ],
   "source": [
    "def astrology():\n",
    "    step = int(input())\n",
    "    x,y = 0,0\n",
    "    dist = 10\n",
    "    c='R'\n",
    "    while step != 0:\n",
    "\n",
    "        if c == 'R':\n",
    "          x = x+dist\n",
    "          dist = dist + 10\n",
    "          step = step -1\n",
    "          c = 'U'\n",
    "        \n",
    "        \n",
    "    \n",
    "        elif c == 'U':\n",
    "          y = y + dist\n",
    "          dist = dist + 10\n",
    "          step = step -1\n",
    "          c = 'L'\n",
    "            \n",
    "       \n",
    "    \n",
    "        elif c == 'L':\n",
    "          x = x - dist\n",
    "          dist = dist + 10\n",
    "          step = step -1\n",
    "          c = 'D'\n",
    "            \n",
    "    \n",
    "    \n",
    "        elif c == 'D':\n",
    "          y = y - dist\n",
    "          dist = dist + 10\n",
    "          step = step -1\n",
    "          c = 'A'\n",
    "            \n",
    "        \n",
    "    \n",
    "        elif c == 'A':\n",
    "          x = x + dist\n",
    "          dist = dist + 10\n",
    "          step = step -1\n",
    "          c = 'R'\n",
    "            \n",
    "        \n",
    "    return print(str(x)+' '+ str(y))\n",
    "            \n",
    "astrology()"
   ]
  },
  {
   "cell_type": "code",
   "execution_count": null,
   "metadata": {},
   "outputs": [],
   "source": []
  }
 ],
 "metadata": {
  "kernelspec": {
   "display_name": "Python 3",
   "language": "python",
   "name": "python3"
  },
  "language_info": {
   "codemirror_mode": {
    "name": "ipython",
    "version": 3
   },
   "file_extension": ".py",
   "mimetype": "text/x-python",
   "name": "python",
   "nbconvert_exporter": "python",
   "pygments_lexer": "ipython3",
   "version": "3.7.6"
  }
 },
 "nbformat": 4,
 "nbformat_minor": 4
}
