{
 "cells": [
  {
   "cell_type": "markdown",
   "metadata": {},
   "source": [
    "**Given an unsorted list of integers, find a pair which add up to a given value. Identify the indices of the values which sum to the target. These indices must be distinct (i.e. you can't use a value in the same position twice).\n",
    "\n",
    "For example:\n",
    "\n",
    "__1st input               1,2,3\n",
    "__2nd input(target value) 4 \n",
    "\n",
    "\n",
    "\n",
    "* should give the output (0, 2)"
   ]
  },
  {
   "cell_type": "code",
   "execution_count": 1,
   "metadata": {},
   "outputs": [
    {
     "name": "stdout",
     "output_type": "stream",
     "text": [
      "1 3 4 5 7 8 3 3 3 \n",
      "8\n",
      "(0, 4)\n"
     ]
    }
   ],
   "source": [
    "def sum_of_two():\n",
    "    num = input().split()\n",
    "    target = int(input())\n",
    "    new_dict = {}\n",
    "\n",
    "    for i in range(len(num)):\n",
    "        num[i] = int(num[i])\n",
    "\n",
    "    for j in range(len(num)):\n",
    "        new_dict[j] = num[j]\n",
    "\n",
    "\n",
    "    for k in new_dict.values():\n",
    "        to_find = (target - k)\n",
    "\n",
    "        if to_find in new_dict.values():\n",
    "            x=num.index(k)\n",
    "            del num[x]\n",
    "            num.insert(x,'hello')     #replacing the value with string so that if both x and y are same so.\n",
    "                                      # that it wouldn't show flase result.\n",
    "            y=num.index(to_find)\n",
    "            \n",
    "            print((x, y))\n",
    "            break\n",
    "\n",
    "    else:\n",
    "        print('unable to find two sum')\n",
    "\n",
    "\n",
    "sum_of_two()"
   ]
  },
  {
   "cell_type": "code",
   "execution_count": 8,
   "metadata": {},
   "outputs": [
    {
     "name": "stdout",
     "output_type": "stream",
     "text": [
      "1 3 4 5 7 8 3 3 3\n",
      "8\n",
      "(0, 4)\n",
      "the time taken by code is: 2.6599173545837402\n"
     ]
    }
   ],
   "source": [
    "from time import time\n",
    "init = time()\n",
    "def sum_of_two():\n",
    "    num = input().split()\n",
    "    target = int(input())\n",
    "    new_dict = {}\n",
    "\n",
    "    for i in range(len(num)):\n",
    "        num[i] = int(num[i])\n",
    "\n",
    "    for j in range(len(num)):\n",
    "        new_dict[j] = num[j]\n",
    "\n",
    "\n",
    "    for k in new_dict.values():\n",
    "        to_find = (target - k)\n",
    "\n",
    "        if to_find in new_dict.values():\n",
    "            x=num.index(k)\n",
    "            del num[x]\n",
    "            num.insert(x,'hello')     #replacing the value with string so that if both x and y are same so.\n",
    "                                      # that it wouldn't show flase result.\n",
    "            y=num.index(to_find)\n",
    "            \n",
    "            print((x, y))\n",
    "            break\n",
    "\n",
    "    else:\n",
    "        print('unable to find two sum')\n",
    "\n",
    "\n",
    "sum_of_two()\n",
    "print(\"the time taken by code is: {}\".format((time()-init)))"
   ]
  },
  {
   "cell_type": "code",
   "execution_count": null,
   "metadata": {},
   "outputs": [],
   "source": []
  }
 ],
 "metadata": {
  "kernelspec": {
   "display_name": "Python 3",
   "language": "python",
   "name": "python3"
  },
  "language_info": {
   "codemirror_mode": {
    "name": "ipython",
    "version": 3
   },
   "file_extension": ".py",
   "mimetype": "text/x-python",
   "name": "python",
   "nbconvert_exporter": "python",
   "pygments_lexer": "ipython3",
   "version": "3.7.6"
  }
 },
 "nbformat": 4,
 "nbformat_minor": 4
}
